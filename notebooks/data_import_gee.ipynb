{
 "cells": [
  {
   "cell_type": "markdown",
   "metadata": {},
   "source": [
    "### Importing Data Files from Google Earth Engine and NASA \n",
    "This notebook imports .tif files exported from google earth engine, and the GFWD (for the month of December) from NASA's Archives. It scales data to the same dimensions, assigns lat and lon coordinates, and exports the consolidated dataset as a pandas dataframe parquet file. "
   ]
  },
  {
   "cell_type": "code",
   "execution_count": 1,
   "metadata": {},
   "outputs": [],
   "source": [
    "import pandas as pd\n",
    "import numpy as np\n",
    "import xarray as xr\n",
    "import rasterio as rio\n",
    "from affine import Affine\n",
    "import xarray as xr\n",
    "from rasterio.plot import show\n",
    "from rasterio.mask import mask\n",
    "import matplotlib.pyplot as plt\n"
   ]
  },
  {
   "cell_type": "code",
   "execution_count": 2,
   "metadata": {},
   "outputs": [
    {
     "name": "stderr",
     "output_type": "stream",
     "text": [
      "C:\\Program Files\\Python36\\Lib\\site-packages\\libpysal\\examples\\remotes.py:26: UserWarning: Remote data sets not available. Check connection.\n",
      "  warnings.warn(\"Remote data sets not available. Check connection.\")\n"
     ]
    }
   ],
   "source": [
    "import georasters as gr\n",
    "import geopandas\n",
    "from rastertodataframe import raster_to_dataframe\n",
    "import os\n",
    "from glob import glob\n",
    "from rasterio.plot import plotting_extent\n",
    "import geopandas as gpd\n",
    "import earthpy as et\n",
    "import earthpy.spatial as es\n",
    "import earthpy.plot as ep\n",
    "%run ../pyfiles/data_cleaning.py"
   ]
  },
  {
   "cell_type": "markdown",
   "metadata": {},
   "source": [
    "### Set data paths associated with time period to paths. Then run notebook to merge"
   ]
  },
  {
   "cell_type": "code",
   "execution_count": 6,
   "metadata": {},
   "outputs": [],
   "source": [
    "# Data paths\n",
    "# CRS.from_epsg(4326)\n",
    "fire = '../Data/fire_final_edited.tif' #float32\n",
    "air = '../Data/air.tif' #float32\n",
    "precip = '../Data/preci_final_2.tif' #float32\n",
    "burn = '../Data/burned_final_new_2.tif' #float32"
   ]
  },
  {
   "cell_type": "code",
   "execution_count": 7,
   "metadata": {},
   "outputs": [],
   "source": [
    "# Read file into rasterio\n",
    "fire = rio.open(fire)\n",
    "air = rio.open(air)\n",
    "precip = rio.open(precip)\n",
    "burned = rio.open(burn)"
   ]
  },
  {
   "cell_type": "code",
   "execution_count": 8,
   "metadata": {},
   "outputs": [
    {
     "data": {
      "text/plain": [
       "{'driver': 'GTiff',\n",
       " 'dtype': 'float64',\n",
       " 'nodata': None,\n",
       " 'width': 2555,\n",
       " 'height': 2148,\n",
       " 'count': 4,\n",
       " 'crs': CRS.from_epsg(4326),\n",
       " 'transform': Affine(0.004491576420597608, 0.0, -125.29252425257026,\n",
       "        0.0, -0.004491576420597608, 42.059121602476)}"
      ]
     },
     "execution_count": 8,
     "metadata": {},
     "output_type": "execute_result"
    }
   ],
   "source": [
    "fire.meta"
   ]
  },
  {
   "cell_type": "code",
   "execution_count": 9,
   "metadata": {},
   "outputs": [
    {
     "data": {
      "text/plain": [
       "{'driver': 'GTiff',\n",
       " 'dtype': 'float64',\n",
       " 'nodata': None,\n",
       " 'width': 2555,\n",
       " 'height': 2148,\n",
       " 'count': 5,\n",
       " 'crs': CRS.from_epsg(4326),\n",
       " 'transform': Affine(0.004491576420597608, 0.0, -125.29252425257026,\n",
       "        0.0, -0.004491576420597608, 42.059121602476)}"
      ]
     },
     "execution_count": 9,
     "metadata": {},
     "output_type": "execute_result"
    }
   ],
   "source": [
    "burned.meta"
   ]
  },
  {
   "cell_type": "code",
   "execution_count": 10,
   "metadata": {},
   "outputs": [
    {
     "data": {
      "text/plain": [
       "{'driver': 'GTiff',\n",
       " 'dtype': 'float32',\n",
       " 'nodata': None,\n",
       " 'width': 2555,\n",
       " 'height': 2148,\n",
       " 'count': 5,\n",
       " 'crs': CRS.from_epsg(4326),\n",
       " 'transform': Affine(0.004491576420597608, 0.0, -125.29252425257026,\n",
       "        0.0, -0.004491576420597608, 42.059121602476)}"
      ]
     },
     "execution_count": 10,
     "metadata": {},
     "output_type": "execute_result"
    }
   ],
   "source": [
    "precip.meta"
   ]
  },
  {
   "cell_type": "code",
   "execution_count": 11,
   "metadata": {},
   "outputs": [
    {
     "data": {
      "text/plain": [
       "{'driver': 'GTiff',\n",
       " 'dtype': 'int16',\n",
       " 'nodata': None,\n",
       " 'width': 2555,\n",
       " 'height': 2148,\n",
       " 'count': 36,\n",
       " 'crs': CRS.from_epsg(4326),\n",
       " 'transform': Affine(0.004491576420597608, 0.0, -125.29252425257026,\n",
       "        0.0, -0.004491576420597608, 42.059121602476)}"
      ]
     },
     "execution_count": 11,
     "metadata": {},
     "output_type": "execute_result"
    }
   ],
   "source": [
    "air.meta"
   ]
  },
  {
   "cell_type": "code",
   "execution_count": 12,
   "metadata": {
    "scrolled": true
   },
   "outputs": [
    {
     "data": {
      "image/png": "[encoded data removed]",
      "text/plain": [
       "<Figure size 432x288 with 1 Axes>"
      ]
     },
     "metadata": {
      "needs_background": "light"
     },
     "output_type": "display_data"
    },
    {
     "data": {
      "text/plain": [
       "<AxesSubplot:>"
      ]
     },
     "execution_count": 12,
     "metadata": {},
     "output_type": "execute_result"
    }
   ],
   "source": [
    "show(fire)"
   ]
  },
  {
   "cell_type": "code",
   "execution_count": 14,
   "metadata": {},
   "outputs": [
    {
     "data": {
      "image/png": "[encoded data removed]",
      "text/plain": [
       "<Figure size 432x288 with 1 Axes>"
      ]
     },
     "metadata": {
      "needs_background": "light"
     },
     "output_type": "display_data"
    },
    {
     "data": {
      "text/plain": [
       "<AxesSubplot:>"
      ]
     },
     "execution_count": 14,
     "metadata": {},
     "output_type": "execute_result"
    }
   ],
   "source": [
    "show(burned)"
   ]
  },
  {
   "cell_type": "code",
   "execution_count": 15,
   "metadata": {},
   "outputs": [
    {
     "data": {
      "image/png": "[encoded data removed]",
      "text/plain": [
       "<Figure size 432x288 with 1 Axes>"
      ]
     },
     "metadata": {
      "needs_background": "light"
     },
     "output_type": "display_data"
    },
    {
     "data": {
      "text/plain": [
       "<AxesSubplot:>"
      ]
     },
     "execution_count": 15,
     "metadata": {},
     "output_type": "execute_result"
    }
   ],
   "source": [
    "show(precip)"
   ]
  },
  {
   "cell_type": "code",
   "execution_count": 16,
   "metadata": {},
   "outputs": [
    {
     "data": {
      "image/png": "[encoded data removed]",
      "text/plain": [
       "<Figure size 432x288 with 1 Axes>"
      ]
     },
     "metadata": {
      "needs_background": "light"
     },
     "output_type": "display_data"
    },
    {
     "data": {
      "text/plain": [
       "<AxesSubplot:>"
      ]
     },
     "execution_count": 16,
     "metadata": {},
     "output_type": "execute_result"
    }
   ],
   "source": [
    "show(air)"
   ]
  },
  {
   "cell_type": "code",
   "execution_count": 17,
   "metadata": {},
   "outputs": [
    {
     "name": "stdout",
     "output_type": "stream",
     "text": [
      "[2148, 2555]\n"
     ]
    }
   ],
   "source": [
    "# fire.meta #count shows the number of bands\n",
    "fire_shape = list(fire.read(1).shape)\n",
    "print(fire_shape)"
   ]
  },
  {
   "cell_type": "code",
   "execution_count": 18,
   "metadata": {},
   "outputs": [],
   "source": [
    "# get shapes of all the bands from different datasets\n",
    "fire_shape = list(fire.read(1).shape)\n",
    "precip_shape = list(precip.read(1).shape)\n",
    "air_shape = list(air.read(1).shape)\n",
    "burned_shape = list(burned.read(1).shape)"
   ]
  },
  {
   "cell_type": "code",
   "execution_count": 19,
   "metadata": {},
   "outputs": [
    {
     "data": {
      "text/plain": [
       "([2148, 2555], [2148, 2555], [2148, 2555], [2148, 2555])"
      ]
     },
     "execution_count": 19,
     "metadata": {},
     "output_type": "execute_result"
    }
   ],
   "source": [
    "fire_shape, burned_shape, precip_shape, air_shape"
   ]
  },
  {
   "cell_type": "code",
   "execution_count": 20,
   "metadata": {},
   "outputs": [],
   "source": [
    "# info from google earth engine\n",
    "# scale factors are calculated as a proportion of the dimensions of the fire dataset\n",
    "\n",
    "fire_bands = ['FireMask', 'MaxFRP', 'QA', 'sample']\n",
    "a, b = fire_shape[0], fire_shape[1]\n",
    "\n",
    "# Vegetation bands were not deemed important features after RF classification - dropped this dataset. \n",
    "# veg_bands = ['EVI', 'EVI2', 'NVDI','NIR_reflectance', 'SWIR1_reflectance', \n",
    "#              'SWIR2_reflectance', 'SWIR3_reflectance', 'VI_Quality', 'blue_reflectance',\n",
    "#             'composite_day_of_the_year', 'green_reflectance', 'pixel_reliability',\n",
    "#             'red_reflectance','relative_azimuth_angle','sun_zenith_angle','view_zenith_angle']\n",
    "# veg_scale_factors = (a/veg_shape[0], b/veg_shape[1])\n",
    "\n",
    "burned_bands = ['BurnDate', 'Uncertainty', 'QA', 'FirstDay', 'LastDay']\n",
    "burned_scale_factors = (a/burned_shape[0], b/burned_shape[1])"
   ]
  },
  {
   "cell_type": "code",
   "execution_count": 21,
   "metadata": {},
   "outputs": [],
   "source": [
    "precip_bands = ['gaugeQualityInfo', 'hourlyPrecipRate', 'hourlyPrecipRateGC', 'observationTimeFlag', 'satelliteInfoFlag']\n",
    "precip_scale_factors = (a/precip_shape[0], b/precip_shape[1])\n",
    "\n",
    "air_bands = ['Albedo_inst', 'AvgSurfT_inst', 'CanopInt_inst', 'ECanop_tavg','ESoil_tavg', 'Evap_tavg', 'LWdown_f_tavg',\n",
    "'Lwnet_tavg', 'PotEvap_tavg', 'Psurf_f_inst', 'Qair_f_inst', 'Qg_tavg', 'Qh_tavg', 'Qle_tavg', \n",
    "'Qs_acc', 'Qsb_acc', 'Qsm_acc', 'Rainf_f_tavg', 'Rainf_tavg', 'RootMoist_inst', 'SWE_inst',\n",
    "'SWdown_f_tavg', 'SnowDepth_inst', 'Snowf_tavg', 'SoilMoi0_10cm_inst', 'SoilMoi100_200cm_inst',\n",
    "'SoilMoi10_40cm_inst', 'SoilMoi40_100cm_inst', 'SoilTMP0_10cm_inst', 'SoilTMP100_200cm_inst',\n",
    "'SoilTMP10_40cm_inst', 'SoilTMP40_100cm_inst', 'Swnet_tavg', 'Tair_f_inst', 'Tveg_tavg', 'Wind_f_inst']\n",
    "air_scale_factors = (a/air_shape[0], b/air_shape[1])"
   ]
  },
  {
   "cell_type": "code",
   "execution_count": 22,
   "metadata": {},
   "outputs": [],
   "source": [
    "# Save bands as separate arrays and scale to appropriate dimensions\n",
    "FireMask = fire.read(1)\n",
    "MaxFRP = fire.read(2)\n",
    "\n",
    "# EVI = scale_variable(veg.read(1), veg_scale_factors)\n",
    "# EVI2 = scale_variable(veg.read(2), veg_scale_factors)\n",
    "# NVDI = scale_variable(veg.read(3), veg_scale_factors)\n",
    "# NIR_reflectance = scale_variable(veg.read(4), veg_scale_factors)\n",
    "# SWIR1_reflectance = scale_variable(veg.read(5), veg_scale_factors)\n",
    "# SWIR2_reflectance = scale_variable(veg.read(6), veg_scale_factors)\n",
    "# SWIR3_reflectance = scale_variable(veg.read(7), veg_scale_factors)\n",
    "# VI_Quality = scale_variable(veg.read(8), veg_scale_factors)\n",
    "# blue_reflectance = scale_variable(veg.read(9), veg_scale_factors)\n",
    "# composite_day_of_the_year = scale_variable(veg.read(10), veg_scale_factors)\n",
    "# green_reflectance = scale_variable(veg.read(11), veg_scale_factors)\n",
    "# pixel_reliability = scale_variable(veg.read(12), veg_scale_factors)\n",
    "# red_reflectance = scale_variable(veg.read(13), veg_scale_factors)\n",
    "# relative_azimuth_angle = scale_variable(veg.read(14), veg_scale_factors)\n",
    "# sun_zenith_angle = scale_variable(veg.read(15), veg_scale_factors)\n",
    "# view_zenith_angle = scale_variable(veg.read(16), veg_scale_factors)\n",
    "\n",
    "\n",
    "BurnDate = scale_variable(burned.read(1), burned_scale_factors)\n",
    "Uncertainty = scale_variable(burned.read(2), burned_scale_factors)\n",
    "QA = scale_variable(burned.read(3), burned_scale_factors)\n",
    "FirstDay = scale_variable(burned.read(4), burned_scale_factors)\n",
    "LastDay = scale_variable(burned.read(5), burned_scale_factors)"
   ]
  },
  {
   "cell_type": "code",
   "execution_count": 23,
   "metadata": {},
   "outputs": [],
   "source": [
    "gaugeQualityInfo = scale_variable(precip.read(1), precip_scale_factors)\n",
    "hourlyPrecipRate = scale_variable(precip.read(2), precip_scale_factors)\n",
    "hourlyPrecipRateGC = scale_variable(precip.read(3), precip_scale_factors)\n",
    "observationTimeFlag = scale_variable(precip.read(4), precip_scale_factors)\n",
    "satelliteInfoFlag = scale_variable(precip.read(5), precip_scale_factors)\n",
    "\n",
    "Albedo_inst = scale_variable(air.read(1), air_scale_factors)\n",
    "AvgSurfT_inst = scale_variable(air.read(2), air_scale_factors)\n",
    "CanopInt_inst = scale_variable(air.read(3), air_scale_factors)\n",
    "ECanop_tavg = scale_variable(air.read(4), air_scale_factors)\n",
    "ESoil_tavg = scale_variable(air.read(5), air_scale_factors)\n",
    "Evap_tavg = scale_variable(air.read(6), air_scale_factors)\n",
    "LWdown_f_tavg = scale_variable(air.read(7), air_scale_factors)\n",
    "Lwnet_tavg = scale_variable(air.read(8), air_scale_factors)\n",
    "PotEvap_tavg = scale_variable(air.read(9), air_scale_factors)\n",
    "Psurf_f_inst = scale_variable(air.read(10), air_scale_factors)\n",
    "Qair_f_inst = scale_variable(air.read(11), air_scale_factors)\n",
    "Qg_tavg = scale_variable(air.read(12), air_scale_factors)\n",
    "Qh_tavg = scale_variable(air.read(13), air_scale_factors)\n",
    "Qle_tavg = scale_variable(air.read(14), air_scale_factors)\n",
    "Qs_acc = scale_variable(air.read(15), air_scale_factors)\n",
    "Qsb_acc = scale_variable(air.read(16), air_scale_factors)\n",
    "Qsm_acc = scale_variable(air.read(17), air_scale_factors)\n",
    "Rainf_f_tavg = scale_variable(air.read(18), air_scale_factors)\n",
    "Rainf_tavg = scale_variable(air.read(19), air_scale_factors)\n",
    "RootMoist_inst = scale_variable(air.read(20), air_scale_factors)\n",
    "SWE_inst = scale_variable(air.read(21), air_scale_factors)\n",
    "SWdown_f_tavg = scale_variable(air.read(22), air_scale_factors)\n",
    "SnowDepth_inst = scale_variable(air.read(23), air_scale_factors)\n",
    "Snowf_tavg = scale_variable(air.read(24), air_scale_factors)\n",
    "SoilMoi0_10cm_inst = scale_variable(air.read(25), air_scale_factors)\n",
    "SoilMoi100_200cm_inst = scale_variable(air.read(26), air_scale_factors)\n",
    "SoilMoi10_40cm_inst = scale_variable(air.read(27), air_scale_factors)\n",
    "SoilMoi40_100cm_inst = scale_variable(air.read(28), air_scale_factors)\n",
    "SoilTMP0_10cm_inst = scale_variable(air.read(29), air_scale_factors)\n",
    "SoilTMP100_200cm_inst = scale_variable(air.read(30), air_scale_factors)\n",
    "SoilTMP10_40cm_inst = scale_variable(air.read(31), air_scale_factors)\n",
    "SoilTMP40_100cm_inst = scale_variable(air.read(32), air_scale_factors)\n",
    "Swnet_tavg = scale_variable(air.read(33), air_scale_factors)\n",
    "Tair_f_inst = scale_variable(air.read(34), air_scale_factors)\n",
    "Tveg_tavg = scale_variable(air.read(35), air_scale_factors)\n",
    "Wind_f_inst = scale_variable(air.read(36), air_scale_factors)"
   ]
  },
  {
   "cell_type": "code",
   "execution_count": 24,
   "metadata": {},
   "outputs": [
    {
     "name": "stderr",
     "output_type": "stream",
     "text": [
      "C:\\Program Files\\Python36\\Lib\\site-packages\\xarray\\coding\\variables.py:141: FutureWarning: elementwise comparison failed; returning scalar instead, but in the future will perform elementwise comparison\n",
      "  condition |= data == fv\n"
     ]
    }
   ],
   "source": [
    "# Add data from FWI\n",
    "fwi = xr.open_mfdataset('../Data/FWI.GEOS-5.Daily.Default.2020090900.20200912.nc', combine = 'by_coords')\n",
    "\n",
    "# This is a global database, so take the geoslice with the same bounding box used to export google earth data\n",
    "fwi = fwi.where(fwi.lat >= 32.4141350208273, drop = True)\n",
    "fwi = fwi.where(fwi.lat <= 41.91604504596647, drop = True)\n",
    "fwi = fwi.where((fwi.lon >= -125.289), drop = True)\n",
    "fwi = fwi.where((fwi.lon <= -113.81973761448899), drop = True)\n",
    "\n",
    "fwi = fwi.drop('time')\n",
    "fwi = fwi.squeeze('time')\n",
    "fwi = fwi['GEOS-5_FWI'].values\n",
    "fwi_shape = list(fwi.shape)\n",
    "fwi_scale_factors = (a/fwi_shape[0], b/fwi_shape[1])"
   ]
  },
  {
   "cell_type": "code",
   "execution_count": 25,
   "metadata": {},
   "outputs": [],
   "source": [
    "FWI = scale_variable(fwi, fwi_scale_factors)"
   ]
  },
  {
   "cell_type": "code",
   "execution_count": 26,
   "metadata": {},
   "outputs": [],
   "source": [
    "# Flip the array so it maps correctly\n",
    "FWI = np.flip(FWI, axis = 0)"
   ]
  },
  {
   "cell_type": "code",
   "execution_count": 27,
   "metadata": {},
   "outputs": [
    {
     "data": {
      "image/png": "[encoded data removed]",
      "text/plain": [
       "<Figure size 432x288 with 1 Axes>"
      ]
     },
     "metadata": {
      "needs_background": "light"
     },
     "output_type": "display_data"
    },
    {
     "data": {
      "text/plain": [
       "<AxesSubplot:>"
      ]
     },
     "execution_count": 27,
     "metadata": {},
     "output_type": "execute_result"
    }
   ],
   "source": [
    "show(FWI)"
   ]
  },
  {
   "cell_type": "markdown",
   "metadata": {},
   "source": [
    "### Create latitude and longitude coordinates"
   ]
  },
  {
   "cell_type": "code",
   "execution_count": 28,
   "metadata": {},
   "outputs": [
    {
     "name": "stdout",
     "output_type": "stream",
     "text": [
      "[-125.29252425257026, 32.411215451032334, -113.81654649794338, 42.059121602476]\n",
      "[2148, 2555]\n"
     ]
    }
   ],
   "source": [
    "bounds = list(fire.bounds) #BoundingBox(left, bottom, right, top)\n",
    "print(bounds)\n",
    "shape = list(fire.shape) #longitude, latitude\n",
    "print(shape)"
   ]
  },
  {
   "cell_type": "code",
   "execution_count": 29,
   "metadata": {},
   "outputs": [
    {
     "data": {
      "text/plain": [
       "(2148,)"
      ]
     },
     "execution_count": 29,
     "metadata": {},
     "output_type": "execute_result"
    }
   ],
   "source": [
    "# Define latitude\n",
    "xlat = np.linspace(bounds[1],bounds[3], shape[0])\n",
    "xlat.shape"
   ]
  },
  {
   "cell_type": "code",
   "execution_count": 30,
   "metadata": {},
   "outputs": [
    {
     "data": {
      "text/plain": [
       "(2555,)"
      ]
     },
     "execution_count": 30,
     "metadata": {},
     "output_type": "execute_result"
    }
   ],
   "source": [
    "# Define longitude\n",
    "ylon = np.linspace(bounds[0], bounds[2], shape[1])\n",
    "ylon.shape"
   ]
  },
  {
   "cell_type": "markdown",
   "metadata": {},
   "source": [
    "### Create an xarray Dataset"
   ]
  },
  {
   "cell_type": "code",
   "execution_count": 31,
   "metadata": {},
   "outputs": [],
   "source": [
    "array = xr.DataArray(FireMask, [('lat', xlat), ('lon', ylon)])"
   ]
  },
  {
   "cell_type": "code",
   "execution_count": 32,
   "metadata": {},
   "outputs": [],
   "source": [
    "ds = array.to_dataset(name = \"firemask\")\n"
   ]
  },
  {
   "cell_type": "code",
   "execution_count": 33,
   "metadata": {},
   "outputs": [
    {
     "data": {
      "text/html": [
       "<div><svg style=\"position: absolute; width: 0; height: 0; overflow: hidden\">\n",
       "<defs>\n",
       "<symbol id=\"icon-database\" viewBox=\"0 0 32 32\">\n",
       "<path d=\"M16 0c-8.837 0-16 2.239-16 5v4c0 2.761 7.163 5 16 5s16-2.239 16-5v-4c0-2.761-7.163-5-16-5z\"></path>\n",
       "<path d=\"M16 17c-8.837 0-16-2.239-16-5v6c0 2.761 7.163 5 16 5s16-2.239 16-5v-6c0 2.761-7.163 5-16 5z\"></path>\n",
       "<path d=\"M16 26c-8.837 0-16-2.239-16-5v6c0 2.761 7.163 5 16 5s16-2.239 16-5v-6c0 2.761-7.163 5-16 5z\"></path>\n",
       "</symbol>\n",
       "<symbol id=\"icon-file-text2\" viewBox=\"0 0 32 32\">\n",
       "<path d=\"M28.681 7.159c-0.694-0.947-1.662-2.053-2.724-3.116s-2.169-2.030-3.116-2.724c-1.612-1.182-2.393-1.319-2.841-1.319h-15.5c-1.378 0-2.5 1.121-2.5 2.5v27c0 1.378 1.122 2.5 2.5 2.5h23c1.378 0 2.5-1.122 2.5-2.5v-19.5c0-0.448-0.137-1.23-1.319-2.841zM24.543 5.457c0.959 0.959 1.712 1.825 2.268 2.543h-4.811v-4.811c0.718 0.556 1.584 1.309 2.543 2.268zM28 29.5c0 0.271-0.229 0.5-0.5 0.5h-23c-0.271 0-0.5-0.229-0.5-0.5v-27c0-0.271 0.229-0.5 0.5-0.5 0 0 15.499-0 15.5 0v7c0 0.552 0.448 1 1 1h7v19.5z\"></path>\n",
       "<path d=\"M23 26h-14c-0.552 0-1-0.448-1-1s0.448-1 1-1h14c0.552 0 1 0.448 1 1s-0.448 1-1 1z\"></path>\n",
       "<path d=\"M23 22h-14c-0.552 0-1-0.448-1-1s0.448-1 1-1h14c0.552 0 1 0.448 1 1s-0.448 1-1 1z\"></path>\n",
       "<path d=\"M23 18h-14c-0.552 0-1-0.448-1-1s0.448-1 1-1h14c0.552 0 1 0.448 1 1s-0.448 1-1 1z\"></path>\n",
       "</symbol>\n",
       "</defs>\n",
       "</svg>\n",
       "<style>/* CSS stylesheet for displaying xarray objects in jupyterlab.\n",
       " *\n",
       " */\n",
       "\n",
       ":root {\n",
       "  --xr-font-color0: var(--jp-content-font-color0, rgba(0, 0, 0, 1));\n",
       "  --xr-font-color2: var(--jp-content-font-color2, rgba(0, 0, 0, 0.54));\n",
       "  --xr-font-color3: var(--jp-content-font-color3, rgba(0, 0, 0, 0.38));\n",
       "  --xr-border-color: var(--jp-border-color2, #e0e0e0);\n",
       "  --xr-disabled-color: var(--jp-layout-color3, #bdbdbd);\n",
       "  --xr-background-color: var(--jp-layout-color0, white);\n",
       "  --xr-background-color-row-even: var(--jp-layout-color1, white);\n",
       "  --xr-background-color-row-odd: var(--jp-layout-color2, #eeeeee);\n",
       "}\n",
       "\n",
       "html[theme=dark],\n",
       "body.vscode-dark {\n",
       "  --xr-font-color0: rgba(255, 255, 255, 1);\n",
       "  --xr-font-color2: rgba(255, 255, 255, 0.54);\n",
       "  --xr-font-color3: rgba(255, 255, 255, 0.38);\n",
       "  --xr-border-color: #1F1F1F;\n",
       "  --xr-disabled-color: #515151;\n",
       "  --xr-background-color: #111111;\n",
       "  --xr-background-color-row-even: #111111;\n",
       "  --xr-background-color-row-odd: #313131;\n",
       "}\n",
       "\n",
       ".xr-wrap {\n",
       "  display: block;\n",
       "  min-width: 300px;\n",
       "  max-width: 700px;\n",
       "}\n",
       "\n",
       ".xr-text-repr-fallback {\n",
       "  /* fallback to plain text repr when CSS is not injected (untrusted notebook) */\n",
       "  display: none;\n",
       "}\n",
       "\n",
       ".xr-header {\n",
       "  padding-top: 6px;\n",
       "  padding-bottom: 6px;\n",
       "  margin-bottom: 4px;\n",
       "  border-bottom: solid 1px var(--xr-border-color);\n",
       "}\n",
       "\n",
       ".xr-header > div,\n",
       ".xr-header > ul {\n",
       "  display: inline;\n",
       "  margin-top: 0;\n",
       "  margin-bottom: 0;\n",
       "}\n",
       "\n",
       ".xr-obj-type,\n",
       ".xr-array-name {\n",
       "  margin-left: 2px;\n",
       "  margin-right: 10px;\n",
       "}\n",
       "\n",
       ".xr-obj-type {\n",
       "  color: var(--xr-font-color2);\n",
       "}\n",
       "\n",
       ".xr-sections {\n",
       "  padding-left: 0 !important;\n",
       "  display: grid;\n",
       "  grid-template-columns: 150px auto auto 1fr 20px 20px;\n",
       "}\n",
       "\n",
       ".xr-section-item {\n",
       "  display: contents;\n",
       "}\n",
       "\n",
       ".xr-section-item input {\n",
       "  display: none;\n",
       "}\n",
       "\n",
       ".xr-section-item input + label {\n",
       "  color: var(--xr-disabled-color);\n",
       "}\n",
       "\n",
       ".xr-section-item input:enabled + label {\n",
       "  cursor: pointer;\n",
       "  color: var(--xr-font-color2);\n",
       "}\n",
       "\n",
       ".xr-section-item input:enabled + label:hover {\n",
       "  color: var(--xr-font-color0);\n",
       "}\n",
       "\n",
       ".xr-section-summary {\n",
       "  grid-column: 1;\n",
       "  color: var(--xr-font-color2);\n",
       "  font-weight: 500;\n",
       "}\n",
       "\n",
       ".xr-section-summary > span {\n",
       "  display: inline-block;\n",
       "  padding-left: 0.5em;\n",
       "}\n",
       "\n",
       ".xr-section-summary-in:disabled + label {\n",
       "  color: var(--xr-font-color2);\n",
       "}\n",
       "\n",
       ".xr-section-summary-in + label:before {\n",
       "  display: inline-block;\n",
       "  content: '►';\n",
       "  font-size: 11px;\n",
       "  width: 15px;\n",
       "  text-align: center;\n",
       "}\n",
       "\n",
       ".xr-section-summary-in:disabled + label:before {\n",
       "  color: var(--xr-disabled-color);\n",
       "}\n",
       "\n",
       ".xr-section-summary-in:checked + label:before {\n",
       "  content: '▼';\n",
       "}\n",
       "\n",
       ".xr-section-summary-in:checked + label > span {\n",
       "  display: none;\n",
       "}\n",
       "\n",
       ".xr-section-summary,\n",
       ".xr-section-inline-details {\n",
       "  padding-top: 4px;\n",
       "  padding-bottom: 4px;\n",
       "}\n",
       "\n",
       ".xr-section-inline-details {\n",
       "  grid-column: 2 / -1;\n",
       "}\n",
       "\n",
       ".xr-section-details {\n",
       "  display: none;\n",
       "  grid-column: 1 / -1;\n",
       "  margin-bottom: 5px;\n",
       "}\n",
       "\n",
       ".xr-section-summary-in:checked ~ .xr-section-details {\n",
       "  display: contents;\n",
       "}\n",
       "\n",
       ".xr-array-wrap {\n",
       "  grid-column: 1 / -1;\n",
       "  display: grid;\n",
       "  grid-template-columns: 20px auto;\n",
       "}\n",
       "\n",
       ".xr-array-wrap > label {\n",
       "  grid-column: 1;\n",
       "  vertical-align: top;\n",
       "}\n",
       "\n",
       ".xr-preview {\n",
       "  color: var(--xr-font-color3);\n",
       "}\n",
       "\n",
       ".xr-array-preview,\n",
       ".xr-array-data {\n",
       "  padding: 0 5px !important;\n",
       "  grid-column: 2;\n",
       "}\n",
       "\n",
       ".xr-array-data,\n",
       ".xr-array-in:checked ~ .xr-array-preview {\n",
       "  display: none;\n",
       "}\n",
       "\n",
       ".xr-array-in:checked ~ .xr-array-data,\n",
       ".xr-array-preview {\n",
       "  display: inline-block;\n",
       "}\n",
       "\n",
       ".xr-dim-list {\n",
       "  display: inline-block !important;\n",
       "  list-style: none;\n",
       "  padding: 0 !important;\n",
       "  margin: 0;\n",
       "}\n",
       "\n",
       ".xr-dim-list li {\n",
       "  display: inline-block;\n",
       "  padding: 0;\n",
       "  margin: 0;\n",
       "}\n",
       "\n",
       ".xr-dim-list:before {\n",
       "  content: '(';\n",
       "}\n",
       "\n",
       ".xr-dim-list:after {\n",
       "  content: ')';\n",
       "}\n",
       "\n",
       ".xr-dim-list li:not(:last-child):after {\n",
       "  content: ',';\n",
       "  padding-right: 5px;\n",
       "}\n",
       "\n",
       ".xr-has-index {\n",
       "  font-weight: bold;\n",
       "}\n",
       "\n",
       ".xr-var-list,\n",
       ".xr-var-item {\n",
       "  display: contents;\n",
       "}\n",
       "\n",
       ".xr-var-item > div,\n",
       ".xr-var-item label,\n",
       ".xr-var-item > .xr-var-name span {\n",
       "  background-color: var(--xr-background-color-row-even);\n",
       "  margin-bottom: 0;\n",
       "}\n",
       "\n",
       ".xr-var-item > .xr-var-name:hover span {\n",
       "  padding-right: 5px;\n",
       "}\n",
       "\n",
       ".xr-var-list > li:nth-child(odd) > div,\n",
       ".xr-var-list > li:nth-child(odd) > label,\n",
       ".xr-var-list > li:nth-child(odd) > .xr-var-name span {\n",
       "  background-color: var(--xr-background-color-row-odd);\n",
       "}\n",
       "\n",
       ".xr-var-name {\n",
       "  grid-column: 1;\n",
       "}\n",
       "\n",
       ".xr-var-dims {\n",
       "  grid-column: 2;\n",
       "}\n",
       "\n",
       ".xr-var-dtype {\n",
       "  grid-column: 3;\n",
       "  text-align: right;\n",
       "  color: var(--xr-font-color2);\n",
       "}\n",
       "\n",
       ".xr-var-preview {\n",
       "  grid-column: 4;\n",
       "}\n",
       "\n",
       ".xr-var-name,\n",
       ".xr-var-dims,\n",
       ".xr-var-dtype,\n",
       ".xr-preview,\n",
       ".xr-attrs dt {\n",
       "  white-space: nowrap;\n",
       "  overflow: hidden;\n",
       "  text-overflow: ellipsis;\n",
       "  padding-right: 10px;\n",
       "}\n",
       "\n",
       ".xr-var-name:hover,\n",
       ".xr-var-dims:hover,\n",
       ".xr-var-dtype:hover,\n",
       ".xr-attrs dt:hover {\n",
       "  overflow: visible;\n",
       "  width: auto;\n",
       "  z-index: 1;\n",
       "}\n",
       "\n",
       ".xr-var-attrs,\n",
       ".xr-var-data {\n",
       "  display: none;\n",
       "  background-color: var(--xr-background-color) !important;\n",
       "  padding-bottom: 5px !important;\n",
       "}\n",
       "\n",
       ".xr-var-attrs-in:checked ~ .xr-var-attrs,\n",
       ".xr-var-data-in:checked ~ .xr-var-data {\n",
       "  display: block;\n",
       "}\n",
       "\n",
       ".xr-var-data > table {\n",
       "  float: right;\n",
       "}\n",
       "\n",
       ".xr-var-name span,\n",
       ".xr-var-data,\n",
       ".xr-attrs {\n",
       "  padding-left: 25px !important;\n",
       "}\n",
       "\n",
       ".xr-attrs,\n",
       ".xr-var-attrs,\n",
       ".xr-var-data {\n",
       "  grid-column: 1 / -1;\n",
       "}\n",
       "\n",
       "dl.xr-attrs {\n",
       "  padding: 0;\n",
       "  margin: 0;\n",
       "  display: grid;\n",
       "  grid-template-columns: 125px auto;\n",
       "}\n",
       "\n",
       ".xr-attrs dt, dd {\n",
       "  padding: 0;\n",
       "  margin: 0;\n",
       "  float: left;\n",
       "  padding-right: 10px;\n",
       "  width: auto;\n",
       "}\n",
       "\n",
       ".xr-attrs dt {\n",
       "  font-weight: normal;\n",
       "  grid-column: 1;\n",
       "}\n",
       "\n",
       ".xr-attrs dt:hover span {\n",
       "  display: inline-block;\n",
       "  background: var(--xr-background-color);\n",
       "  padding-right: 10px;\n",
       "}\n",
       "\n",
       ".xr-attrs dd {\n",
       "  grid-column: 2;\n",
       "  white-space: pre-wrap;\n",
       "  word-break: break-all;\n",
       "}\n",
       "\n",
       ".xr-icon-database,\n",
       ".xr-icon-file-text2 {\n",
       "  display: inline-block;\n",
       "  vertical-align: middle;\n",
       "  width: 1em;\n",
       "  height: 1.5em !important;\n",
       "  stroke-width: 0;\n",
       "  stroke: currentColor;\n",
       "  fill: currentColor;\n",
       "}\n",
       "</style><pre class='xr-text-repr-fallback'>&lt;xarray.DataArray &#x27;firemask&#x27; (lat: 100, lon: 2555)&gt;\n",
       "array([[3., 3., 3., ..., 5., 5., 5.],\n",
       "       [3., 3., 3., ..., 5., 5., 5.],\n",
       "       [3., 3., 3., ..., 5., 5., 5.],\n",
       "       ...,\n",
       "       [3., 3., 3., ..., 5., 5., 5.],\n",
       "       [3., 3., 3., ..., 5., 5., 5.],\n",
       "       [3., 3., 3., ..., 5., 5., 5.]])\n",
       "Coordinates:\n",
       "  * lat      (lat) float64 34.66 34.66 34.67 34.67 ... 35.09 35.09 35.1 35.1\n",
       "  * lon      (lon) float64 -125.3 -125.3 -125.3 -125.3 ... -113.8 -113.8 -113.8</pre><div class='xr-wrap' hidden><div class='xr-header'><div class='xr-obj-type'>xarray.DataArray</div><div class='xr-array-name'>'firemask'</div><ul class='xr-dim-list'><li><span class='xr-has-index'>lat</span>: 100</li><li><span class='xr-has-index'>lon</span>: 2555</li></ul></div><ul class='xr-sections'><li class='xr-section-item'><div class='xr-array-wrap'><input id='section-041a4a13-dfa3-4740-acab-7c730759fc2e' class='xr-array-in' type='checkbox' checked><label for='section-041a4a13-dfa3-4740-acab-7c730759fc2e' title='Show/hide data repr'><svg class='icon xr-icon-database'><use xlink:href='#icon-database'></use></svg></label><div class='xr-array-preview xr-preview'><span>3.0 3.0 3.0 3.0 3.0 3.0 3.0 3.0 ... 5.0 5.0 5.0 5.0 5.0 5.0 5.0 5.0</span></div><div class='xr-array-data'><pre>array([[3., 3., 3., ..., 5., 5., 5.],\n",
       "       [3., 3., 3., ..., 5., 5., 5.],\n",
       "       [3., 3., 3., ..., 5., 5., 5.],\n",
       "       ...,\n",
       "       [3., 3., 3., ..., 5., 5., 5.],\n",
       "       [3., 3., 3., ..., 5., 5., 5.],\n",
       "       [3., 3., 3., ..., 5., 5., 5.]])</pre></div></div></li><li class='xr-section-item'><input id='section-5bef0d7a-7c14-443f-bea3-4718944a796b' class='xr-section-summary-in' type='checkbox'  checked><label for='section-5bef0d7a-7c14-443f-bea3-4718944a796b' class='xr-section-summary' >Coordinates: <span>(2)</span></label><div class='xr-section-inline-details'></div><div class='xr-section-details'><ul class='xr-var-list'><li class='xr-var-item'><div class='xr-var-name'><span class='xr-has-index'>lat</span></div><div class='xr-var-dims'>(lat)</div><div class='xr-var-dtype'>float64</div><div class='xr-var-preview xr-preview'>34.66 34.66 34.67 ... 35.1 35.1</div><input id='attrs-757e30b3-5929-4ada-a172-5f9105201ab8' class='xr-var-attrs-in' type='checkbox' disabled><label for='attrs-757e30b3-5929-4ada-a172-5f9105201ab8' title='Show/Hide attributes'><svg class='icon xr-icon-file-text2'><use xlink:href='#icon-file-text2'></use></svg></label><input id='data-f5ec709f-f781-437c-bab8-75bfe4cf1727' class='xr-var-data-in' type='checkbox'><label for='data-f5ec709f-f781-437c-bab8-75bfe4cf1727' title='Show/Hide data repr'><svg class='icon xr-icon-database'><use xlink:href='#icon-database'></use></svg></label><div class='xr-var-attrs'><dl class='xr-attrs'></dl></div><div class='xr-var-data'><pre>array([34.65805 , 34.662543, 34.667037, 34.671531, 34.676024, 34.680518,\n",
       "       34.685012, 34.689505, 34.693999, 34.698493, 34.702986, 34.70748 ,\n",
       "       34.711974, 34.716467, 34.720961, 34.725455, 34.729948, 34.734442,\n",
       "       34.738936, 34.743429, 34.747923, 34.752417, 34.75691 , 34.761404,\n",
       "       34.765898, 34.770391, 34.774885, 34.779379, 34.783872, 34.788366,\n",
       "       34.79286 , 34.797353, 34.801847, 34.806341, 34.810834, 34.815328,\n",
       "       34.819822, 34.824315, 34.828809, 34.833303, 34.837796, 34.84229 ,\n",
       "       34.846784, 34.851277, 34.855771, 34.860265, 34.864758, 34.869252,\n",
       "       34.873746, 34.878239, 34.882733, 34.887227, 34.89172 , 34.896214,\n",
       "       34.900708, 34.905201, 34.909695, 34.914189, 34.918682, 34.923176,\n",
       "       34.92767 , 34.932163, 34.936657, 34.941151, 34.945644, 34.950138,\n",
       "       34.954632, 34.959125, 34.963619, 34.968113, 34.972606, 34.9771  ,\n",
       "       34.981594, 34.986087, 34.990581, 34.995075, 34.999568, 35.004062,\n",
       "       35.008556, 35.013049, 35.017543, 35.022037, 35.02653 , 35.031024,\n",
       "       35.035518, 35.040011, 35.044505, 35.048999, 35.053492, 35.057986,\n",
       "       35.06248 , 35.066974, 35.071467, 35.075961, 35.080455, 35.084948,\n",
       "       35.089442, 35.093936, 35.098429, 35.102923])</pre></div></li><li class='xr-var-item'><div class='xr-var-name'><span class='xr-has-index'>lon</span></div><div class='xr-var-dims'>(lon)</div><div class='xr-var-dtype'>float64</div><div class='xr-var-preview xr-preview'>-125.3 -125.3 ... -113.8 -113.8</div><input id='attrs-95c8e3f1-b353-4c05-a3c7-62d7628a5a37' class='xr-var-attrs-in' type='checkbox' disabled><label for='attrs-95c8e3f1-b353-4c05-a3c7-62d7628a5a37' title='Show/Hide attributes'><svg class='icon xr-icon-file-text2'><use xlink:href='#icon-file-text2'></use></svg></label><input id='data-b1458347-7e15-46d0-9823-df6f72147bde' class='xr-var-data-in' type='checkbox'><label for='data-b1458347-7e15-46d0-9823-df6f72147bde' title='Show/Hide data repr'><svg class='icon xr-icon-database'><use xlink:href='#icon-database'></use></svg></label><div class='xr-var-attrs'><dl class='xr-attrs'></dl></div><div class='xr-var-data'><pre>array([-125.292524, -125.288031, -125.283538, ..., -113.825533, -113.82104 ,\n",
       "       -113.816546])</pre></div></li></ul></div></li><li class='xr-section-item'><input id='section-61b90065-e247-4d16-ab0d-7e4e4b92e793' class='xr-section-summary-in' type='checkbox' disabled ><label for='section-61b90065-e247-4d16-ab0d-7e4e4b92e793' class='xr-section-summary'  title='Expand/collapse section'>Attributes: <span>(0)</span></label><div class='xr-section-inline-details'></div><div class='xr-section-details'><dl class='xr-attrs'></dl></div></li></ul></div></div>"
      ],
      "text/plain": [
       "<xarray.DataArray 'firemask' (lat: 100, lon: 2555)>\n",
       "array([[3., 3., 3., ..., 5., 5., 5.],\n",
       "       [3., 3., 3., ..., 5., 5., 5.],\n",
       "       [3., 3., 3., ..., 5., 5., 5.],\n",
       "       ...,\n",
       "       [3., 3., 3., ..., 5., 5., 5.],\n",
       "       [3., 3., 3., ..., 5., 5., 5.],\n",
       "       [3., 3., 3., ..., 5., 5., 5.]])\n",
       "Coordinates:\n",
       "  * lat      (lat) float64 34.66 34.66 34.67 34.67 ... 35.09 35.09 35.1 35.1\n",
       "  * lon      (lon) float64 -125.3 -125.3 -125.3 -125.3 ... -113.8 -113.8 -113.8"
      ]
     },
     "execution_count": 33,
     "metadata": {},
     "output_type": "execute_result"
    }
   ],
   "source": [
    "ds['firemask'][500:600]"
   ]
  },
  {
   "cell_type": "code",
   "execution_count": 34,
   "metadata": {},
   "outputs": [],
   "source": [
    "ds = ds.assign(MaxFRP = (('lat', 'lon'), MaxFRP))\n",
    "\n",
    "# Veg bands\n",
    "# ds = ds.assign(EVI = (('lat', 'lon'), EVI))\n",
    "# ds = ds.assign(EVI2 = (('lat', 'lon'), EVI2))\n",
    "# ds = ds.assign(NVDI = (('lat', 'lon'), NVDI))\n",
    "# ds = ds.assign(NIR_reflectance = (('lat', 'lon'), NIR_reflectance))\n",
    "# ds = ds.assign(SWIR1_reflectance = (('lat', 'lon'), SWIR1_reflectance))\n",
    "# ds = ds.assign(SWIR2_reflectance = (('lat', 'lon'), SWIR2_reflectance))\n",
    "# ds = ds.assign(SWIR3_reflectance = (('lat', 'lon'), SWIR3_reflectance))\n",
    "# ds = ds.assign(VI_Quality = (('lat', 'lon'), VI_Quality))\n",
    "# ds = ds.assign(blue_reflectance = (('lat', 'lon'), blue_reflectance))\n",
    "# ds = ds.assign(composite_day_of_the_year = (('lat', 'lon'), composite_day_of_the_year))\n",
    "# ds = ds.assign(green_reflectance = (('lat', 'lon'), green_reflectance))\n",
    "# ds = ds.assign(pixel_reliability = (('lat', 'lon'), pixel_reliability))\n",
    "# ds = ds.assign(red_reflectance = (('lat', 'lon'), red_reflectance))\n",
    "# ds = ds.assign(relative_azimuth_angle = (('lat', 'lon'), relative_azimuth_angle))\n",
    "# ds = ds.assign(sun_zenith_angle = (('lat', 'lon'), sun_zenith_angle))\n",
    "# ds = ds.assign(view_zenith_angle = (('lat', 'lon'), view_zenith_angle))\n",
    "\n",
    "# Burned\n",
    "ds = ds.assign(BurnDate = (('lat', 'lon'), BurnDate))\n",
    "ds = ds.assign(Uncertainty = (('lat', 'lon'), Uncertainty))\n",
    "ds = ds.assign(QA = (('lat', 'lon'), QA))\n",
    "ds = ds.assign(FirstDay = (('lat', 'lon'), FirstDay))\n",
    "ds = ds.assign(LastDay = (('lat', 'lon'), LastDay))\n",
    "\n",
    "# FWI\n",
    "ds = ds.assign(FWI = (('lat', 'lon'), FWI))"
   ]
  },
  {
   "cell_type": "code",
   "execution_count": 35,
   "metadata": {},
   "outputs": [],
   "source": [
    "# Precip bands\n",
    "ds = ds.assign(gaugeQualityInfo = (('lat', 'lon'), gaugeQualityInfo))\n",
    "ds = ds.assign(hourlyPrecipRate = (('lat', 'lon'), hourlyPrecipRate))\n",
    "ds = ds.assign(hourlyPrecipRateGC = (('lat', 'lon'), hourlyPrecipRateGC))\n",
    "ds = ds.assign(observationTimeFlag = (('lat', 'lon'), observationTimeFlag))\n",
    "ds = ds.assign(satelliteInfoFlag = (('lat', 'lon'), satelliteInfoFlag))\n",
    "\n",
    "# air bands\n",
    "ds = ds.assign(Albedo_inst = (('lat', 'lon'), Albedo_inst))\n",
    "ds = ds.assign(AvgSurfT_inst = (('lat', 'lon'), CanopInt_inst))\n",
    "ds = ds.assign(CanopInt_inst = (('lat', 'lon'), CanopInt_inst))\n",
    "ds = ds.assign(ECanop_tavg = (('lat', 'lon'), ECanop_tavg))\n",
    "ds = ds.assign(ESoil_tavg = (('lat', 'lon'), ESoil_tavg))\n",
    "ds = ds.assign(Evap_tavg = (('lat', 'lon'), Evap_tavg))\n",
    "ds = ds.assign(LWdown_f_tavg = (('lat', 'lon'), LWdown_f_tavg))\n",
    "ds = ds.assign(Lwnet_tavg = (('lat', 'lon'), Lwnet_tavg))\n",
    "ds = ds.assign(PotEvap_tavg = (('lat', 'lon'), PotEvap_tavg))\n",
    "ds = ds.assign(Psurf_f_inst = (('lat', 'lon'), Psurf_f_inst))\n",
    "ds = ds.assign(Qair_f_inst = (('lat', 'lon'), Qair_f_inst))\n",
    "ds = ds.assign(Qg_tavg = (('lat', 'lon'), Qg_tavg))\n",
    "ds = ds.assign(Qh_tavg = (('lat', 'lon'), Qh_tavg))\n",
    "ds = ds.assign(Qle_tavg = (('lat', 'lon'), Qle_tavg))\n",
    "ds = ds.assign(Qs_acc = (('lat', 'lon'), Qs_acc))\n",
    "ds = ds.assign(Qsb_acc = (('lat', 'lon'), Qsb_acc))\n",
    "ds = ds.assign(Qsm_acc = (('lat', 'lon'), Qsm_acc))\n",
    "ds = ds.assign(Rainf_f_tavg = (('lat', 'lon'), Rainf_f_tavg))\n",
    "ds = ds.assign(RootMoist_inst = (('lat', 'lon'), RootMoist_inst))\n",
    "ds = ds.assign(SWE_inst = (('lat', 'lon'), SWE_inst))\n",
    "ds = ds.assign(SWdown_f_tavg = (('lat', 'lon'), SWdown_f_tavg))\n",
    "ds = ds.assign(SnowDepth_inst = (('lat', 'lon'), SnowDepth_inst))\n",
    "ds = ds.assign(Snowf_tavg = (('lat', 'lon'), Snowf_tavg))\n",
    "ds = ds.assign(SoilMoi100_200cm_inst = (('lat', 'lon'), SoilMoi100_200cm_inst))\n",
    "ds = ds.assign(SoilMoi10_40cm_inst = (('lat', 'lon'), SoilMoi10_40cm_inst))\n",
    "ds = ds.assign(SoilMoi40_100cm_inst = (('lat', 'lon'), SoilMoi40_100cm_inst))\n",
    "ds = ds.assign(SoilTMP0_10cm_inst = (('lat', 'lon'), SoilTMP0_10cm_inst))\n",
    "ds = ds.assign(SoilMoi0_10cm_inst = (('lat', 'lon'), SoilMoi0_10cm_inst))\n",
    "ds = ds.assign(SoilTMP100_200cm_inst = (('lat', 'lon'), SoilTMP100_200cm_inst))\n",
    "ds = ds.assign(SoilTMP10_40cm_inst = (('lat', 'lon'), SoilTMP10_40cm_inst))\n",
    "ds = ds.assign(SoilTMP40_100cm_inst = (('lat', 'lon'), SoilTMP40_100cm_inst))\n",
    "ds = ds.assign(Swnet_tavg = (('lat', 'lon'), Swnet_tavg))\n",
    "ds = ds.assign(Tair_f_inst = (('lat', 'lon'), Tair_f_inst))\n",
    "ds = ds.assign(Tveg_tavg = (('lat', 'lon'), Tveg_tavg))\n",
    "ds = ds.assign(Wind_f_inst = (('lat', 'lon'), Wind_f_inst))"
   ]
  },
  {
   "cell_type": "markdown",
   "metadata": {},
   "source": [
    "### Convert to pandas dataframe"
   ]
  },
  {
   "cell_type": "code",
   "execution_count": 36,
   "metadata": {},
   "outputs": [],
   "source": [
    "ds_df = ds.to_dataframe()\n",
    "ds_df.reset_index(inplace = True)"
   ]
  },
  {
   "cell_type": "code",
   "execution_count": 37,
   "metadata": {},
   "outputs": [],
   "source": [
    "# Flip lat column\n",
    "ds_df[\"lat\"] = ds_df[\"lat\"].values[::-1]"
   ]
  },
  {
   "cell_type": "code",
   "execution_count": 38,
   "metadata": {},
   "outputs": [
    {
     "data": {
      "text/html": [
       "<div>\n",
       "<style scoped>\n",
       "    .dataframe tbody tr th:only-of-type {\n",
       "        vertical-align: middle;\n",
       "    }\n",
       "\n",
       "    .dataframe tbody tr th {\n",
       "        vertical-align: top;\n",
       "    }\n",
       "\n",
       "    .dataframe thead th {\n",
       "        text-align: right;\n",
       "    }\n",
       "</style>\n",
       "<table border=\"1\" class=\"dataframe\">\n",
       "  <thead>\n",
       "    <tr style=\"text-align: right;\">\n",
       "      <th></th>\n",
       "      <th>lat</th>\n",
       "      <th>lon</th>\n",
       "      <th>firemask</th>\n",
       "      <th>MaxFRP</th>\n",
       "      <th>BurnDate</th>\n",
       "      <th>Uncertainty</th>\n",
       "      <th>QA</th>\n",
       "      <th>FirstDay</th>\n",
       "      <th>LastDay</th>\n",
       "      <th>FWI</th>\n",
       "      <th>...</th>\n",
       "      <th>SoilMoi40_100cm_inst</th>\n",
       "      <th>SoilTMP0_10cm_inst</th>\n",
       "      <th>SoilMoi0_10cm_inst</th>\n",
       "      <th>SoilTMP100_200cm_inst</th>\n",
       "      <th>SoilTMP10_40cm_inst</th>\n",
       "      <th>SoilTMP40_100cm_inst</th>\n",
       "      <th>Swnet_tavg</th>\n",
       "      <th>Tair_f_inst</th>\n",
       "      <th>Tveg_tavg</th>\n",
       "      <th>Wind_f_inst</th>\n",
       "    </tr>\n",
       "  </thead>\n",
       "  <tbody>\n",
       "    <tr>\n",
       "      <th>0</th>\n",
       "      <td>42.059122</td>\n",
       "      <td>-125.292524</td>\n",
       "      <td>3.0</td>\n",
       "      <td>NaN</td>\n",
       "      <td>NaN</td>\n",
       "      <td>NaN</td>\n",
       "      <td>0.0</td>\n",
       "      <td>NaN</td>\n",
       "      <td>NaN</td>\n",
       "      <td>NaN</td>\n",
       "      <td>...</td>\n",
       "      <td>0</td>\n",
       "      <td>0</td>\n",
       "      <td>0</td>\n",
       "      <td>0</td>\n",
       "      <td>0</td>\n",
       "      <td>0</td>\n",
       "      <td>0</td>\n",
       "      <td>0</td>\n",
       "      <td>0</td>\n",
       "      <td>0</td>\n",
       "    </tr>\n",
       "    <tr>\n",
       "      <th>1</th>\n",
       "      <td>42.059122</td>\n",
       "      <td>-125.288031</td>\n",
       "      <td>3.0</td>\n",
       "      <td>NaN</td>\n",
       "      <td>NaN</td>\n",
       "      <td>NaN</td>\n",
       "      <td>0.0</td>\n",
       "      <td>NaN</td>\n",
       "      <td>NaN</td>\n",
       "      <td>NaN</td>\n",
       "      <td>...</td>\n",
       "      <td>0</td>\n",
       "      <td>0</td>\n",
       "      <td>0</td>\n",
       "      <td>0</td>\n",
       "      <td>0</td>\n",
       "      <td>0</td>\n",
       "      <td>0</td>\n",
       "      <td>0</td>\n",
       "      <td>0</td>\n",
       "      <td>0</td>\n",
       "    </tr>\n",
       "    <tr>\n",
       "      <th>2</th>\n",
       "      <td>42.059122</td>\n",
       "      <td>-125.283538</td>\n",
       "      <td>3.0</td>\n",
       "      <td>NaN</td>\n",
       "      <td>NaN</td>\n",
       "      <td>NaN</td>\n",
       "      <td>0.0</td>\n",
       "      <td>NaN</td>\n",
       "      <td>NaN</td>\n",
       "      <td>NaN</td>\n",
       "      <td>...</td>\n",
       "      <td>0</td>\n",
       "      <td>0</td>\n",
       "      <td>0</td>\n",
       "      <td>0</td>\n",
       "      <td>0</td>\n",
       "      <td>0</td>\n",
       "      <td>0</td>\n",
       "      <td>0</td>\n",
       "      <td>0</td>\n",
       "      <td>0</td>\n",
       "    </tr>\n",
       "    <tr>\n",
       "      <th>3</th>\n",
       "      <td>42.059122</td>\n",
       "      <td>-125.279044</td>\n",
       "      <td>3.0</td>\n",
       "      <td>NaN</td>\n",
       "      <td>NaN</td>\n",
       "      <td>NaN</td>\n",
       "      <td>0.0</td>\n",
       "      <td>NaN</td>\n",
       "      <td>NaN</td>\n",
       "      <td>NaN</td>\n",
       "      <td>...</td>\n",
       "      <td>0</td>\n",
       "      <td>0</td>\n",
       "      <td>0</td>\n",
       "      <td>0</td>\n",
       "      <td>0</td>\n",
       "      <td>0</td>\n",
       "      <td>0</td>\n",
       "      <td>0</td>\n",
       "      <td>0</td>\n",
       "      <td>0</td>\n",
       "    </tr>\n",
       "    <tr>\n",
       "      <th>4</th>\n",
       "      <td>42.059122</td>\n",
       "      <td>-125.274551</td>\n",
       "      <td>3.0</td>\n",
       "      <td>NaN</td>\n",
       "      <td>NaN</td>\n",
       "      <td>NaN</td>\n",
       "      <td>0.0</td>\n",
       "      <td>NaN</td>\n",
       "      <td>NaN</td>\n",
       "      <td>NaN</td>\n",
       "      <td>...</td>\n",
       "      <td>0</td>\n",
       "      <td>0</td>\n",
       "      <td>0</td>\n",
       "      <td>0</td>\n",
       "      <td>0</td>\n",
       "      <td>0</td>\n",
       "      <td>0</td>\n",
       "      <td>0</td>\n",
       "      <td>0</td>\n",
       "      <td>0</td>\n",
       "    </tr>\n",
       "  </tbody>\n",
       "</table>\n",
       "<p>5 rows × 50 columns</p>\n",
       "</div>"
      ],
      "text/plain": [
       "         lat         lon  firemask  MaxFRP  BurnDate  Uncertainty   QA  \\\n",
       "0  42.059122 -125.292524       3.0     NaN       NaN          NaN  0.0   \n",
       "1  42.059122 -125.288031       3.0     NaN       NaN          NaN  0.0   \n",
       "2  42.059122 -125.283538       3.0     NaN       NaN          NaN  0.0   \n",
       "3  42.059122 -125.279044       3.0     NaN       NaN          NaN  0.0   \n",
       "4  42.059122 -125.274551       3.0     NaN       NaN          NaN  0.0   \n",
       "\n",
       "   FirstDay  LastDay  FWI  ...  SoilMoi40_100cm_inst  SoilTMP0_10cm_inst  \\\n",
       "0       NaN      NaN  NaN  ...                     0                   0   \n",
       "1       NaN      NaN  NaN  ...                     0                   0   \n",
       "2       NaN      NaN  NaN  ...                     0                   0   \n",
       "3       NaN      NaN  NaN  ...                     0                   0   \n",
       "4       NaN      NaN  NaN  ...                     0                   0   \n",
       "\n",
       "   SoilMoi0_10cm_inst  SoilTMP100_200cm_inst  SoilTMP10_40cm_inst  \\\n",
       "0                   0                      0                    0   \n",
       "1                   0                      0                    0   \n",
       "2                   0                      0                    0   \n",
       "3                   0                      0                    0   \n",
       "4                   0                      0                    0   \n",
       "\n",
       "   SoilTMP40_100cm_inst  Swnet_tavg  Tair_f_inst  Tveg_tavg  Wind_f_inst  \n",
       "0                     0           0            0          0            0  \n",
       "1                     0           0            0          0            0  \n",
       "2                     0           0            0          0            0  \n",
       "3                     0           0            0          0            0  \n",
       "4                     0           0            0          0            0  \n",
       "\n",
       "[5 rows x 50 columns]"
      ]
     },
     "execution_count": 38,
     "metadata": {},
     "output_type": "execute_result"
    }
   ],
   "source": [
    "ds_df.head()"
   ]
  },
  {
   "cell_type": "code",
   "execution_count": 39,
   "metadata": {},
   "outputs": [],
   "source": [
    "ds_df.to_parquet('../Data/ds_df.parquet')"
   ]
  },
  {
   "cell_type": "code",
   "execution_count": null,
   "metadata": {},
   "outputs": [],
   "source": []
  }
 ],
 "metadata": {
  "kernelspec": {
   "display_name": "Python 3.6.8 64-bit",
   "language": "python",
   "name": "python36864bit25b370c302564ef98554d514c9c0c4a8"
  },
  "language_info": {
   "codemirror_mode": {
    "name": "ipython",
    "version": 3
   },
   "file_extension": ".py",
   "mimetype": "text/x-python",
   "name": "python",
   "nbconvert_exporter": "python",
   "pygments_lexer": "ipython3",
   "version": "3.6.8"
  }
 },
 "nbformat": 4,
 "nbformat_minor": 4
}
